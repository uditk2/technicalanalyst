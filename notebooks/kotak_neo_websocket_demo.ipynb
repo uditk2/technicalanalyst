{
 "cells": [
  {
   "cell_type": "markdown",
   "metadata": {},
   "source": [
    "# Kotak Neo WebSocket Subscription Demo\n",
    "\n",
    "This notebook shows how to install the `neo-api-client` package and subscribe to Kotak Neo's WebSocket feed for live market data."
   ]
  },
  {
   "cell_type": "code",
   "execution_count": null,
   "id": "cc73156a",
   "metadata": {},
   "outputs": [],
   "source": [
    "import os\n",
    "from dotenv import load_dotenv\n",
    "\n",
    "load_dotenv()\n",
    "\n",
    "def _read_env(name: str, *, default: str = \"\", required: bool = False) -> str:\n",
    "    value = os.getenv(name, default)\n",
    "    if isinstance(value, str):\n",
    "        value = value.strip()\n",
    "    if required and not value:\n",
    "        prompt = f'Enter value for {name}: ' if required else f'Enter value for {name} (optional): '\n",
    "        value = input(prompt).strip()\n",
    "    if required and not value:\n",
    "        raise ValueError(f'Missing required environment variable: {name}')\n",
    "    return value\n",
    "\n",
    "ENVIRONMENT = _read_env('KOTAK_ENVIRONMENT', default='prod') or 'prod'\n",
    "UCC = _read_env('KOTAK_UCC', required=True)\n",
    "CONSUMER_KEY = _read_env('KOTAK_CONSUMER_KEY', required=True)\n",
    "CONSUMER_SECRET = _read_env('KOTAK_CONSUMER_SECRET', required=True)\n",
    "NEO_FIN_KEY = _read_env('KOTAK_NEO_FIN_KEY')\n",
    "MOBILE_NUMBER = _read_env('KOTAK_MOBILE_NUMBER', required=True)\n"
   ]
  },
  {
   "cell_type": "code",
   "execution_count": null,
   "id": "874a11cd",
   "metadata": {},
   "outputs": [],
   "source": [
    "from neo_api_client import NeoAPI, BaseUrl\n",
    "\n",
    "base_url = BaseUrl(ucc=UCC).get_base_url()\n",
    "if not isinstance(base_url, str) or not base_url.startswith('http'):\n",
    "    raise RuntimeError(f'Failed to resolve base URL for UCC {UCC}: {base_url}')\n",
    "\n",
    "client = NeoAPI(\n",
    "    consumer_key=CONSUMER_KEY,\n",
    "    consumer_secret=CONSUMER_SECRET,\n",
    "    environment=ENVIRONMENT,\n",
    "    access_token=None,\n",
    "    neo_fin_key=NEO_FIN_KEY,\n",
    "    base_url=base_url,\n",
    ")\n",
    "\n",
    "totp = input('Enter the 6-digit TOTP: ').strip()\n",
    "login_response = client.totp_login(mobile_number=MOBILE_NUMBER, ucc=UCC, totp=totp)\n",
    "print('Login status:', login_response)\n",
    "\n",
    "if login_response.get('data'):\n",
    "    mpin = input('Enter the 6-digit MPIN for 2FA (leave blank to skip): ').strip()\n",
    "    if mpin:\n",
    "        two_fa_response = client.totp_validate(mpin=mpin)\n",
    "        print('2FA status:', two_fa_response)\n"
   ]
  },
  {
   "cell_type": "code",
   "execution_count": null,
   "metadata": {},
   "outputs": [],
   "source": [
    "def on_message(message):\n",
    "    print('[Res]:', message)\n",
    "\n",
    "def on_error(message):\n",
    "    print('[OnError]:', message)\n",
    "\n",
    "def on_open(message):\n",
    "    print('[OnOpen]:', message)\n",
    "\n",
    "def on_close(message):\n",
    "    print('[OnClose]:', message)\n",
    "\n",
    "client.on_message = on_message\n",
    "client.on_error = on_error\n",
    "client.on_open = on_open\n",
    "client.on_close = on_close\n",
    "print('Callbacks registered.')"
   ]
  },
  {
   "cell_type": "code",
   "execution_count": null,
   "metadata": {},
   "outputs": [],
   "source": [
    "instrument_tokens = [\n",
    "    {'instrument_token': '11536', 'exchange_segment': 'nse_cm'},\n",
    "    # Example for an index subscription:\n",
    "    # {'instrument_token': 'Nifty 50', 'exchange_segment': 'nse_cm'},\n",
    "]\n",
    "\n",
    "try:\n",
    "    client.subscribe(instrument_tokens=instrument_tokens, isIndex=False, isDepth=False)\n",
    "    print('Subscription request sent.')\n",
    "except Exception as exc:\n",
    "    print('Subscription failed:', exc)\n",
    "    raise"
   ]
  },
  {
   "cell_type": "code",
   "execution_count": null,
   "metadata": {},
   "outputs": [],
   "source": [
    "# Run this cell when you want to stop receiving updates for the tokens above.\n",
    "try:\n",
    "    client.un_subscribe(instrument_tokens=instrument_tokens, isIndex=False, isDepth=False)\n",
    "    print('Unsubscribe request sent.')\n",
    "except Exception as exc:\n",
    "    print('Unsubscribe failed:', exc)"
   ]
  }
 ],
 "metadata": {
  "kernelspec": {
   "display_name": "venv",
   "language": "python",
   "name": "python3"
  },
  "language_info": {
   "codemirror_mode": {
    "name": "ipython",
    "version": 3
   },
   "file_extension": ".py",
   "mimetype": "text/x-python",
   "name": "python",
   "nbconvert_exporter": "python",
   "pygments_lexer": "ipython3",
   "version": "3.13.2"
  }
 },
 "nbformat": 4,
 "nbformat_minor": 5
}
